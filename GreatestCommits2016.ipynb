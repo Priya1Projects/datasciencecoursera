{
 "cells": [
  {
   "cell_type": "code",
   "execution_count": 47,
   "metadata": {},
   "outputs": [
    {
     "name": "stdout",
     "output_type": "stream",
     "text": [
      "{'stats': [{'days': [0, 1, 2, 0, 0, 0, 0], 'total': 3, 'week': 1479600000}, {'days': [0, 0, 0, 0, 0, 0, 0], 'total': 0, 'week': 1480204800}, {'days': [0, 0, 0, 0, 0, 0, 0], 'total': 0, 'week': 1480809600}, {'days': [0, 0, 0, 0, 0, 0, 0], 'total': 0, 'week': 1481414400}, {'days': [0, 0, 0, 0, 0, 0, 0], 'total': 0, 'week': 1482019200}, {'days': [0, 0, 0, 0, 0, 0, 0], 'total': 0, 'week': 1482624000}, {'days': [0, 0, 0, 0, 0, 2, 0], 'total': 2, 'week': 1483228800}, {'days': [0, 0, 0, 0, 0, 0, 0], 'total': 0, 'week': 1483833600}, {'days': [0, 0, 0, 2, 0, 4, 0], 'total': 6, 'week': 1484438400}, {'days': [0, 2, 0, 0, 4, 0, 2], 'total': 8, 'week': 1485043200}, {'days': [0, 0, 0, 0, 0, 0, 0], 'total': 0, 'week': 1485648000}, {'days': [0, 0, 0, 0, 0, 0, 0], 'total': 0, 'week': 1486252800}, {'days': [0, 0, 0, 1, 0, 0, 2], 'total': 3, 'week': 1486857600}, {'days': [4, 0, 0, 0, 0, 0, 0], 'total': 4, 'week': 1487462400}, {'days': [0, 0, 2, 0, 2, 0, 0], 'total': 4, 'week': 1488067200}, {'days': [0, 0, 0, 0, 0, 2, 0], 'total': 2, 'week': 1488672000}, {'days': [0, 2, 0, 0, 0, 0, 0], 'total': 2, 'week': 1489276800}, {'days': [0, 0, 0, 1, 0, 2, 0], 'total': 3, 'week': 1489881600}, {'days': [0, 0, 0, 0, 0, 0, 0], 'total': 0, 'week': 1490486400}, {'days': [0, 0, 0, 0, 0, 0, 0], 'total': 0, 'week': 1491091200}, {'days': [0, 0, 0, 0, 0, 2, 0], 'total': 2, 'week': 1491696000}, {'days': [0, 0, 0, 0, 0, 0, 0], 'total': 0, 'week': 1492300800}, {'days': [0, 0, 0, 0, 0, 0, 0], 'total': 0, 'week': 1492905600}, {'days': [0, 0, 0, 0, 0, 0, 0], 'total': 0, 'week': 1493510400}, {'days': [0, 0, 0, 0, 0, 0, 0], 'total': 0, 'week': 1494115200}, {'days': [0, 2, 2, 0, 0, 0, 0], 'total': 4, 'week': 1494720000}, {'days': [0, 0, 0, 0, 0, 0, 0], 'total': 0, 'week': 1495324800}, {'days': [0, 0, 0, 0, 0, 0, 0], 'total': 0, 'week': 1495929600}, {'days': [0, 0, 0, 0, 0, 0, 0], 'total': 0, 'week': 1496534400}, {'days': [0, 0, 0, 0, 0, 0, 0], 'total': 0, 'week': 1497139200}, {'days': [0, 0, 0, 0, 0, 0, 0], 'total': 0, 'week': 1497744000}, {'days': [0, 0, 0, 0, 0, 0, 0], 'total': 0, 'week': 1498348800}, {'days': [0, 0, 0, 0, 0, 2, 1], 'total': 3, 'week': 1498953600}, {'days': [0, 0, 0, 0, 0, 2, 0], 'total': 2, 'week': 1499558400}, {'days': [0, 0, 0, 0, 0, 0, 0], 'total': 0, 'week': 1500163200}, {'days': [0, 0, 0, 0, 0, 0, 0], 'total': 0, 'week': 1500768000}, {'days': [0, 0, 0, 0, 0, 0, 0], 'total': 0, 'week': 1501372800}, {'days': [0, 0, 0, 0, 0, 0, 0], 'total': 0, 'week': 1501977600}, {'days': [0, 0, 0, 0, 0, 0, 0], 'total': 0, 'week': 1502582400}, {'days': [0, 0, 0, 0, 0, 0, 0], 'total': 0, 'week': 1503187200}, {'days': [0, 0, 0, 0, 0, 0, 3], 'total': 3, 'week': 1503792000}, {'days': [2, 0, 0, 0, 0, 0, 0], 'total': 2, 'week': 1504396800}, {'days': [0, 0, 0, 0, 0, 0, 0], 'total': 0, 'week': 1505001600}, {'days': [0, 0, 0, 0, 0, 0, 0], 'total': 0, 'week': 1505606400}, {'days': [0, 0, 0, 0, 0, 0, 0], 'total': 0, 'week': 1506211200}, {'days': [0, 0, 2, 0, 0, 0, 0], 'total': 2, 'week': 1506816000}, {'days': [0, 0, 0, 0, 0, 0, 0], 'total': 0, 'week': 1507420800}, {'days': [0, 0, 0, 0, 0, 0, 0], 'total': 0, 'week': 1508025600}, {'days': [0, 0, 0, 0, 0, 0, 0], 'total': 0, 'week': 1508630400}, {'days': [0, 0, 0, 0, 0, 0, 0], 'total': 0, 'week': 1509235200}, {'days': [0, 0, 0, 0, 0, 0, 0], 'total': 0, 'week': 1509840000}, {'days': [0, 0, 0, 0, 0, 0, 0], 'total': 0, 'week': 1510444800}]}\n"
     ]
    },
    {
     "ename": "TypeError",
     "evalue": "'dict' object is not callable",
     "output_type": "error",
     "traceback": [
      "\u001b[1;31m---------------------------------------------------------------------------\u001b[0m",
      "\u001b[1;31mTypeError\u001b[0m                                 Traceback (most recent call last)",
      "\u001b[1;32m<ipython-input-47-0a5c786c4e37>\u001b[0m in \u001b[0;36m<module>\u001b[1;34m()\u001b[0m\n\u001b[0;32m     10\u001b[0m     \u001b[0mprint\u001b[0m \u001b[1;33m(\u001b[0m\u001b[0mdataset\u001b[0m\u001b[1;33m[\u001b[0m\u001b[1;36m0\u001b[0m\u001b[1;33m]\u001b[0m\u001b[1;33m)\u001b[0m\u001b[1;33m\u001b[0m\u001b[0m\n\u001b[0;32m     11\u001b[0m \u001b[1;33m\u001b[0m\u001b[0m\n\u001b[1;32m---> 12\u001b[1;33m     \u001b[0mtgest\u001b[0m \u001b[1;33m=\u001b[0m\u001b[0mmax\u001b[0m\u001b[1;33m(\u001b[0m\u001b[0mlist\u001b[0m\u001b[1;33m(\u001b[0m\u001b[0mdataset\u001b[0m\u001b[1;33m[\u001b[0m\u001b[1;36m0\u001b[0m\u001b[1;33m]\u001b[0m\u001b[1;33m)\u001b[0m\u001b[1;33m,\u001b[0m \u001b[0mkey\u001b[0m\u001b[1;33m=\u001b[0m\u001b[0mitemgetter\u001b[0m\u001b[1;33m(\u001b[0m\u001b[1;34m'total'\u001b[0m\u001b[1;33m)\u001b[0m\u001b[1;33m)\u001b[0m\u001b[1;33m\u001b[0m\u001b[0m\n\u001b[0m\u001b[0;32m     13\u001b[0m \u001b[1;33m\u001b[0m\u001b[0m\n\u001b[0;32m     14\u001b[0m \u001b[1;33m\u001b[0m\u001b[0m\n",
      "\u001b[1;31mTypeError\u001b[0m: 'dict' object is not callable"
     ]
    }
   ],
   "source": [
    "import json\n",
    "\n",
    "import pandas as pd\n",
    "import dateutil\n",
    "\n",
    "from operator import itemgetter\n",
    "\n",
    "with open('C:\\\\Users\\\\shyam\\\\Desktop\\\\curl\\\\DataweeklyCommits2016.json') as f:\n",
    "    dataset = json.load(f)\n",
    "    print (dataset[0])\n",
    "    \n",
    "    tgest =max(list(dataset[0]), key=itemgetter('total'))\n",
    "    \n",
    "   \n",
    "    print (str(max))\n",
    "    \n",
    "    "
   ]
  },
  {
   "cell_type": "code",
   "execution_count": 125,
   "metadata": {},
   "outputs": [
    {
     "ename": "AttributeError",
     "evalue": "module 'json' has no attribute 'items'",
     "output_type": "error",
     "traceback": [
      "\u001b[1;31m---------------------------------------------------------------------------\u001b[0m",
      "\u001b[1;31mAttributeError\u001b[0m                            Traceback (most recent call last)",
      "\u001b[1;32m<ipython-input-125-eb03019d14f2>\u001b[0m in \u001b[0;36m<module>\u001b[1;34m()\u001b[0m\n\u001b[0;32m      9\u001b[0m     \u001b[0mdataset\u001b[0m \u001b[1;33m=\u001b[0m \u001b[0mjson\u001b[0m\u001b[1;33m.\u001b[0m\u001b[0mload\u001b[0m\u001b[1;33m(\u001b[0m\u001b[0mf\u001b[0m\u001b[1;33m)\u001b[0m\u001b[1;33m\u001b[0m\u001b[0m\n\u001b[0;32m     10\u001b[0m     \u001b[0mstats\u001b[0m\u001b[1;33m=\u001b[0m\u001b[0mlist\u001b[0m\u001b[1;33m(\u001b[0m\u001b[0mdataset\u001b[0m\u001b[1;33m[\u001b[0m\u001b[1;36m0\u001b[0m\u001b[1;33m]\u001b[0m\u001b[1;33m[\u001b[0m\u001b[1;34m'stats'\u001b[0m\u001b[1;33m]\u001b[0m\u001b[1;33m)\u001b[0m\u001b[1;33m\u001b[0m\u001b[0m\n\u001b[1;32m---> 11\u001b[1;33m     \u001b[0mobjects\u001b[0m \u001b[1;33m=\u001b[0m \u001b[0mjson\u001b[0m\u001b[1;33m.\u001b[0m\u001b[0mitems\u001b[0m\u001b[1;33m(\u001b[0m\u001b[0mf\u001b[0m\u001b[1;33m,\u001b[0m \u001b[1;34m'stats.total'\u001b[0m\u001b[1;33m)\u001b[0m\u001b[1;33m\u001b[0m\u001b[0m\n\u001b[0m\u001b[0;32m     12\u001b[0m     \u001b[0mprint\u001b[0m\u001b[1;33m(\u001b[0m\u001b[0mobjects\u001b[0m\u001b[1;33m)\u001b[0m\u001b[1;33m\u001b[0m\u001b[0m\n\u001b[0;32m     13\u001b[0m     \u001b[1;32mfor\u001b[0m \u001b[0mi\u001b[0m \u001b[1;32min\u001b[0m  \u001b[0mstats\u001b[0m\u001b[1;33m:\u001b[0m\u001b[1;33m\u001b[0m\u001b[0m\n",
      "\u001b[1;31mAttributeError\u001b[0m: module 'json' has no attribute 'items'"
     ]
    }
   ],
   "source": [
    "import json\n",
    "\n",
    "import pandas as pd\n",
    "import dateutil\n",
    "\n",
    "from operator import itemgetter\n",
    "\n",
    "with open('Desktop\\\\curl\\\\DataweeklyCommits2016.json') as f:\n",
    "    dataset = json.load(f)\n",
    "    stats=list(dataset[0]['stats'])\n",
    "    print(objects)\n",
    "    for i in  stats:\n",
    "         total = total[\"total\"].append(i['total'])\n",
    "    print(total)\n",
    "    #for val in stats:\n",
    "        #print(val)\n",
    "    maximum=max(stats, key=lambda x:x['total']) \n",
    "    print (maximum)\n",
    "    #maximum= max(range(len(stats)), key=lambda index: stats[index]['total'])\n",
    "    #print(maximum)\n",
    "    \n",
    "    \n",
    "   \n",
    "   #print (str(tgest))\n",
    "    "
   ]
  },
  {
   "cell_type": "code",
   "execution_count": 216,
   "metadata": {},
   "outputs": [
    {
     "name": "stdout",
     "output_type": "stream",
     "text": [
      "                     days  total        week\n",
      "51  [0, 0, 0, 0, 0, 0, 0]      0  1510444800\n",
      "19  [0, 0, 0, 0, 0, 0, 0]      0  1491091200\n",
      "42  [0, 0, 0, 0, 0, 0, 0]      0  1505001600\n",
      "21  [0, 0, 0, 0, 0, 0, 0]      0  1492300800\n",
      "22  [0, 0, 0, 0, 0, 0, 0]      0  1492905600\n",
      "23  [0, 0, 0, 0, 0, 0, 0]      0  1493510400\n",
      "24  [0, 0, 0, 0, 0, 0, 0]      0  1494115200\n",
      "18  [0, 0, 0, 0, 0, 0, 0]      0  1490486400\n",
      "50  [0, 0, 0, 0, 0, 0, 0]      0  1509840000\n",
      "27  [0, 0, 0, 0, 0, 0, 0]      0  1495929600\n",
      "28  [0, 0, 0, 0, 0, 0, 0]      0  1496534400\n",
      "29  [0, 0, 0, 0, 0, 0, 0]      0  1497139200\n",
      "30  [0, 0, 0, 0, 0, 0, 0]      0  1497744000\n",
      "31  [0, 0, 0, 0, 0, 0, 0]      0  1498348800\n",
      "43  [0, 0, 0, 0, 0, 0, 0]      0  1505606400\n",
      "26  [0, 0, 0, 0, 0, 0, 0]      0  1495324800\n",
      "35  [0, 0, 0, 0, 0, 0, 0]      0  1500768000\n",
      "44  [0, 0, 0, 0, 0, 0, 0]      0  1506211200\n",
      "37  [0, 0, 0, 0, 0, 0, 0]      0  1501977600\n",
      "1   [0, 0, 0, 0, 0, 0, 0]      0  1480204800\n",
      "2   [0, 0, 0, 0, 0, 0, 0]      0  1480809600\n",
      "3   [0, 0, 0, 0, 0, 0, 0]      0  1481414400\n",
      "4   [0, 0, 0, 0, 0, 0, 0]      0  1482019200\n",
      "5   [0, 0, 0, 0, 0, 0, 0]      0  1482624000\n",
      "39  [0, 0, 0, 0, 0, 0, 0]      0  1503187200\n",
      "36  [0, 0, 0, 0, 0, 0, 0]      0  1501372800\n",
      "7   [0, 0, 0, 0, 0, 0, 0]      0  1483833600\n",
      "48  [0, 0, 0, 0, 0, 0, 0]      0  1508630400\n",
      "10  [0, 0, 0, 0, 0, 0, 0]      0  1485648000\n",
      "11  [0, 0, 0, 0, 0, 0, 0]      0  1486252800\n",
      "47  [0, 0, 0, 0, 0, 0, 0]      0  1508025600\n",
      "46  [0, 0, 0, 0, 0, 0, 0]      0  1507420800\n",
      "38  [0, 0, 0, 0, 0, 0, 0]      0  1502582400\n",
      "49  [0, 0, 0, 0, 0, 0, 0]      0  1509235200\n",
      "34  [0, 0, 0, 0, 0, 0, 0]      0  1500163200\n",
      "20  [0, 0, 0, 0, 0, 2, 0]      2  1491696000\n",
      "16  [0, 2, 0, 0, 0, 0, 0]      2  1489276800\n",
      "15  [0, 0, 0, 0, 0, 2, 0]      2  1488672000\n",
      "45  [0, 0, 2, 0, 0, 0, 0]      2  1506816000\n",
      "6   [0, 0, 0, 0, 0, 2, 0]      2  1483228800\n",
      "33  [0, 0, 0, 0, 0, 2, 0]      2  1499558400\n",
      "41  [2, 0, 0, 0, 0, 0, 0]      2  1504396800\n",
      "0   [0, 1, 2, 0, 0, 0, 0]      3  1479600000\n",
      "32  [0, 0, 0, 0, 0, 2, 1]      3  1498953600\n",
      "17  [0, 0, 0, 1, 0, 2, 0]      3  1489881600\n",
      "12  [0, 0, 0, 1, 0, 0, 2]      3  1486857600\n",
      "40  [0, 0, 0, 0, 0, 0, 3]      3  1503792000\n",
      "14  [0, 0, 2, 0, 2, 0, 0]      4  1488067200\n",
      "13  [4, 0, 0, 0, 0, 0, 0]      4  1487462400\n",
      "25  [0, 2, 2, 0, 0, 0, 0]      4  1494720000\n",
      "8   [0, 0, 0, 2, 0, 4, 0]      6  1484438400\n",
      "9   [0, 2, 0, 0, 4, 0, 2]      8  1485043200\n",
      "                    days  total        week\n",
      "9  [0, 2, 0, 0, 4, 0, 2]      8  1485043200\n",
      "What week in last year had greatest Commits: 9    1485043200\n",
      "Name: week, dtype: int64\n"
     ]
    }
   ],
   "source": [
    "import json\n",
    "\n",
    "import pandas as pd\n",
    "import numpy as np\n",
    "import dateutil\n",
    "\n",
    "data = pd.read_json(\"Desktop\\\\curl\\\\DataweeklyCommits2016.json\")\n",
    "\n",
    "initialList = pd.DataFrame(data)\n",
    "\n",
    "df = initialList.sort_values('total')\n",
    "print (df)\n",
    "total = np.argmax(df['total'])\n",
    "sum = df.sum()#print(\"Sum:\" ,sum)\n",
    "#print(total)\n",
    "WeekHighestNumberOFCommitsInLastYear = df.loc[[total]]\n",
    "print(WeekHighestNumberOFCommitsInLastYear)\n",
    "week= WeekHighestNumberOFCommitsInLastYear['week']\n",
    "print (\"What week in last year had greatest Commits:\",str(week))\n"
   ]
  },
  {
   "cell_type": "code",
   "execution_count": null,
   "metadata": {
    "collapsed": true
   },
   "outputs": [],
   "source": []
  },
  {
   "cell_type": "code",
   "execution_count": null,
   "metadata": {
    "collapsed": true
   },
   "outputs": [],
   "source": []
  }
 ],
 "metadata": {
  "kernelspec": {
   "display_name": "Python 3",
   "language": "python",
   "name": "python3"
  },
  "language_info": {
   "codemirror_mode": {
    "name": "ipython",
    "version": 3
   },
   "file_extension": ".py",
   "mimetype": "text/x-python",
   "name": "python",
   "nbconvert_exporter": "python",
   "pygments_lexer": "ipython3",
   "version": "3.6.3"
  }
 },
 "nbformat": 4,
 "nbformat_minor": 2
}
